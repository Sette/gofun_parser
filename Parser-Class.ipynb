{
 "cells": [
  {
   "cell_type": "code",
   "execution_count": 1,
   "id": "cb39b21c-2dad-434d-a349-5e4713abec39",
   "metadata": {
    "ExecuteTime": {
     "end_time": "2024-11-12T00:27:45.431606Z",
     "start_time": "2024-11-12T00:27:45.409244Z"
    }
   },
   "outputs": [],
   "source": [
    "from gofun_parser import GoFunCSVParser\n",
    "import shutil\n",
    "import os\n",
    "from tqdm.notebook import tqdm"
   ]
  },
  {
   "cell_type": "code",
   "execution_count": 2,
   "id": "92b509e00be78264",
   "metadata": {
    "ExecuteTime": {
     "end_time": "2024-11-12T00:28:54.544377Z",
     "start_time": "2024-11-12T00:28:54.522807Z"
    }
   },
   "outputs": [],
   "source": [
    "def convert_arffs(input_path, output_dir):\n",
    "    \"\"\"\n",
    "    Recursively extracts 'train.zip', 'test.zip', and 'val.zip' from subdirectories of the input path.\n",
    "\n",
    "    :param input_path: Root directory containing subdirectories with .zip files\n",
    "    :param output_dir: Directory to save the extracted files\n",
    "    \"\"\"\n",
    "    os.makedirs(output_dir, exist_ok=True)\n",
    "    \n",
    "    for root, dirs, files in os.walk(input_path):\n",
    "        \n",
    "        for file_name in files:\n",
    "            if file_name.endswith('.arff'):\n",
    "                csv_file_name = file_name.replace('.arff', '.csv')\n",
    "                csv_path = os.path.join(output_dir, os.path.splitext(file_name)[0])\n",
    "                csv_path = csv_path.split(\"/\")[:-1]\n",
    "                csv_path = os.path.join(\"/\", *csv_path)\n",
    "                os.makedirs(csv_path, exist_ok=True)\n",
    "                csv_path = os.path.join(csv_path, csv_file_name)\n",
    "                arff_path = os.path.join(root, file_name)\n",
    "                parser = GoFunCSVParser(arff_path, csv_path)\n",
    "                parser.process()\n",
    "                print(f\"Created {csv_file_name}\")\n"
   ]
  },
  {
   "cell_type": "code",
   "execution_count": 3,
   "id": "614d045ed017b549",
   "metadata": {
    "ExecuteTime": {
     "end_time": "2024-11-12T00:29:23.599424Z",
     "start_time": "2024-11-12T00:29:23.592960Z"
    }
   },
   "outputs": [],
   "source": [
    "input_path = '/home/brunosilvasette/storage/FUN'"
   ]
  },
  {
   "cell_type": "code",
   "execution_count": 4,
   "id": "1c721422-687b-4966-9c41-56f0098d4514",
   "metadata": {},
   "outputs": [],
   "source": [
    "output_path = '/home/brunosilvasette/storage/FUN_cvs'"
   ]
  },
  {
   "cell_type": "code",
   "execution_count": null,
   "id": "98ed6ddf61f8611a",
   "metadata": {
    "ExecuteTime": {
     "end_time": "2024-11-12T00:29:24.762693Z",
     "start_time": "2024-11-12T00:29:24.420580Z"
    }
   },
   "outputs": [
    {
     "name": "stdout",
     "output_type": "stream",
     "text": [
      "Data successfully converted and saved to /home/brunosilvasette/storage/FUN_cvs/cellcycle_FUN.test.csv\n",
      "Created cellcycle_FUN.test.csv\n",
      "Data successfully converted and saved to /home/brunosilvasette/storage/FUN_cvs/cellcycle_FUN.train.csv\n",
      "Created cellcycle_FUN.train.csv\n",
      "Data successfully converted and saved to /home/brunosilvasette/storage/FUN_cvs/cellcycle_FUN.valid.csv\n",
      "Created cellcycle_FUN.valid.csv\n",
      "Data successfully converted and saved to /home/brunosilvasette/storage/FUN_cvs/church_FUN.test.csv\n",
      "Created church_FUN.test.csv\n",
      "Data successfully converted and saved to /home/brunosilvasette/storage/FUN_cvs/church_FUN.train.csv\n",
      "Created church_FUN.train.csv\n",
      "Data successfully converted and saved to /home/brunosilvasette/storage/FUN_cvs/church_FUN.valid.csv\n",
      "Created church_FUN.valid.csv\n",
      "Data successfully converted and saved to /home/brunosilvasette/storage/FUN_cvs/derisi_FUN.test.csv\n",
      "Created derisi_FUN.test.csv\n",
      "Data successfully converted and saved to /home/brunosilvasette/storage/FUN_cvs/derisi_FUN.train.csv\n",
      "Created derisi_FUN.train.csv\n",
      "Data successfully converted and saved to /home/brunosilvasette/storage/FUN_cvs/derisi_FUN.valid.csv\n",
      "Created derisi_FUN.valid.csv\n",
      "Data successfully converted and saved to /home/brunosilvasette/storage/FUN_cvs/eisen_FUN.test.csv\n",
      "Created eisen_FUN.test.csv\n",
      "Data successfully converted and saved to /home/brunosilvasette/storage/FUN_cvs/eisen_FUN.train.csv\n",
      "Created eisen_FUN.train.csv\n",
      "Data successfully converted and saved to /home/brunosilvasette/storage/FUN_cvs/eisen_FUN.valid.csv\n",
      "Created eisen_FUN.valid.csv\n",
      "Data successfully converted and saved to /home/brunosilvasette/storage/FUN_cvs/expr_FUN.test.csv\n",
      "Created expr_FUN.test.csv\n",
      "Data successfully converted and saved to /home/brunosilvasette/storage/FUN_cvs/expr_FUN.train.csv\n",
      "Created expr_FUN.train.csv\n",
      "Data successfully converted and saved to /home/brunosilvasette/storage/FUN_cvs/expr_FUN.valid.csv\n",
      "Created expr_FUN.valid.csv\n",
      "Data successfully converted and saved to /home/brunosilvasette/storage/FUN_cvs/gasch1_FUN.test.csv\n",
      "Created gasch1_FUN.test.csv\n",
      "Data successfully converted and saved to /home/brunosilvasette/storage/FUN_cvs/gasch1_FUN.train.csv\n",
      "Created gasch1_FUN.train.csv\n",
      "Data successfully converted and saved to /home/brunosilvasette/storage/FUN_cvs/gasch1_FUN.valid.csv\n",
      "Created gasch1_FUN.valid.csv\n",
      "Data successfully converted and saved to /home/brunosilvasette/storage/FUN_cvs/gasch2_FUN.test.csv\n",
      "Created gasch2_FUN.test.csv\n",
      "Data successfully converted and saved to /home/brunosilvasette/storage/FUN_cvs/gasch2_FUN.train.csv\n",
      "Created gasch2_FUN.train.csv\n",
      "Data successfully converted and saved to /home/brunosilvasette/storage/FUN_cvs/gasch2_FUN.valid.csv\n",
      "Created gasch2_FUN.valid.csv\n",
      "Data successfully converted and saved to /home/brunosilvasette/storage/FUN_cvs/hom_FUN.test.csv\n",
      "Created hom_FUN.test.csv\n",
      "Data successfully converted and saved to /home/brunosilvasette/storage/FUN_cvs/hom_FUN.train.csv\n",
      "Created hom_FUN.train.csv\n",
      "Data successfully converted and saved to /home/brunosilvasette/storage/FUN_cvs/hom_FUN.valid.csv\n",
      "Created hom_FUN.valid.csv\n",
      "Data successfully converted and saved to /home/brunosilvasette/storage/FUN_cvs/pheno_FUN.test.csv\n",
      "Created pheno_FUN.test.csv\n",
      "Data successfully converted and saved to /home/brunosilvasette/storage/FUN_cvs/pheno_FUN.train.csv\n",
      "Created pheno_FUN.train.csv\n",
      "Data successfully converted and saved to /home/brunosilvasette/storage/FUN_cvs/pheno_FUN.valid.csv\n",
      "Created pheno_FUN.valid.csv\n",
      "Data successfully converted and saved to /home/brunosilvasette/storage/FUN_cvs/seq_FUN.test.csv\n",
      "Created seq_FUN.test.csv\n",
      "Data successfully converted and saved to /home/brunosilvasette/storage/FUN_cvs/seq_FUN.train.csv\n",
      "Created seq_FUN.train.csv\n",
      "Data successfully converted and saved to /home/brunosilvasette/storage/FUN_cvs/seq_FUN.valid.csv\n",
      "Created seq_FUN.valid.csv\n",
      "Data successfully converted and saved to /home/brunosilvasette/storage/FUN_cvs/spo_FUN.test.csv\n",
      "Created spo_FUN.test.csv\n",
      "Data successfully converted and saved to /home/brunosilvasette/storage/FUN_cvs/spo_FUN.train.csv\n",
      "Created spo_FUN.train.csv\n",
      "Data successfully converted and saved to /home/brunosilvasette/storage/FUN_cvs/spo_FUN.valid.csv\n",
      "Created spo_FUN.valid.csv\n",
      "Data successfully converted and saved to /home/brunosilvasette/storage/FUN_cvs/struc_FUN.test.csv\n",
      "Created struc_FUN.test.csv\n",
      "Data successfully converted and saved to /home/brunosilvasette/storage/FUN_cvs/struc_FUN.train.csv\n",
      "Created struc_FUN.train.csv\n"
     ]
    }
   ],
   "source": [
    "convert_arffs(input_path, output_path)"
   ]
  },
  {
   "cell_type": "code",
   "execution_count": 14,
   "id": "ea54a41a-65c3-4c5e-8660-93a0277678ad",
   "metadata": {
    "ExecuteTime": {
     "end_time": "2024-11-12T00:29:25.229271Z",
     "start_time": "2024-11-12T00:29:25.215653Z"
    }
   },
   "outputs": [],
   "source": [
    "#parser.process()"
   ]
  },
  {
   "cell_type": "code",
   "execution_count": null,
   "id": "fadef48b-1894-4cf5-a2f7-a0a7ed524686",
   "metadata": {},
   "outputs": [],
   "source": []
  }
 ],
 "metadata": {
  "kernelspec": {
   "display_name": "Python 3 (ipykernel)",
   "language": "python",
   "name": "python3"
  },
  "language_info": {
   "codemirror_mode": {
    "name": "ipython",
    "version": 3
   },
   "file_extension": ".py",
   "mimetype": "text/x-python",
   "name": "python",
   "nbconvert_exporter": "python",
   "pygments_lexer": "ipython3",
   "version": "3.12.7"
  }
 },
 "nbformat": 4,
 "nbformat_minor": 5
}
