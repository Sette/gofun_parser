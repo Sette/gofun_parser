{
 "cells": [
  {
   "cell_type": "code",
   "execution_count": null,
   "id": "cb39b21c-2dad-434d-a349-5e4713abec39",
   "metadata": {},
   "outputs": [],
   "source": [
    "from gofun_parser import GoFunCSVParser"
   ]
  },
  {
   "cell_type": "code",
   "execution_count": null,
   "id": "2c7033d4-fac8-437c-b039-b829a0e3b549",
   "metadata": {},
   "outputs": [],
   "source": [
    "parser = GoFunCSVParser(\"struc_GO.test.arff\", 'struc_GO.test.csv')"
   ]
  },
  {
   "cell_type": "code",
   "execution_count": null,
   "id": "ea54a41a-65c3-4c5e-8660-93a0277678ad",
   "metadata": {},
   "outputs": [],
   "source": [
    "parser.process()"
   ]
  },
  {
   "cell_type": "code",
   "execution_count": null,
   "id": "ec4c2a20-95f3-42dd-8db1-ca257c623162",
   "metadata": {},
   "outputs": [],
   "source": []
  },
  {
   "cell_type": "code",
   "execution_count": null,
   "id": "6fb3bb38-5258-4af7-98e2-e5f3ad6036fb",
   "metadata": {},
   "outputs": [],
   "source": []
  },
  {
   "cell_type": "code",
   "execution_count": null,
   "id": "dfc1f219-cef5-41bc-bb49-c5886d605ed0",
   "metadata": {},
   "outputs": [],
   "source": []
  },
  {
   "cell_type": "code",
   "execution_count": null,
   "id": "fadef48b-1894-4cf5-a2f7-a0a7ed524686",
   "metadata": {},
   "outputs": [],
   "source": []
  }
 ],
 "metadata": {
  "kernelspec": {
   "display_name": "Python 3 (ipykernel)",
   "language": "python",
   "name": "python3"
  },
  "language_info": {
   "codemirror_mode": {
    "name": "ipython",
    "version": 3
   },
   "file_extension": ".py",
   "mimetype": "text/x-python",
   "name": "python",
   "nbconvert_exporter": "python",
   "pygments_lexer": "ipython3",
   "version": "3.12.7"
  }
 },
 "nbformat": 4,
 "nbformat_minor": 5
}
