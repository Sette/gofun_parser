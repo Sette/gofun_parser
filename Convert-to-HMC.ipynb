{
 "cells": [
  {
   "cell_type": "code",
   "execution_count": 1,
   "id": "29aab782-c944-4a46-bd7c-d77dc23322d4",
   "metadata": {},
   "outputs": [],
   "source": [
    "# This Python 3 environment comes with many helpful analytics libraries installed\n",
    "# It is defined by the kaggle/python Docker image: https://github.com/kaggle/docker-python\n",
    "# For example, here's several helpful packages to load\n",
    "\n",
    "import numpy as np # linear algebra\n",
    "import pandas as pd # data processing, CSV file I/O (e.g. pd.read_csv)\n",
    "import json\n",
    "import ast"
   ]
  },
  {
   "cell_type": "code",
   "execution_count": 2,
   "id": "46675762-410a-4a62-a9af-36a86d3c5e03",
   "metadata": {},
   "outputs": [],
   "source": [
    "from dataset import load_json, initialize_dataset"
   ]
  },
  {
   "cell_type": "code",
   "execution_count": 3,
   "id": "7a5ee9c2-f1a7-453a-9b3c-aa89ff33ff49",
   "metadata": {},
   "outputs": [],
   "source": [
    "go_path = '/home/bruno/storage/NEW/GO'"
   ]
  },
  {
   "cell_type": "code",
   "execution_count": 4,
   "id": "65c79823-61f4-481f-ae51-a26f1bd41b6a",
   "metadata": {},
   "outputs": [],
   "source": [
    "fun_path = '/home/bruno/storage/NEW/FUN'"
   ]
  },
  {
   "cell_type": "code",
   "execution_count": 5,
   "id": "e640351a-ceea-40c2-8a29-b6c6d7aa86be",
   "metadata": {},
   "outputs": [
    {
     "ename": "TypeError",
     "evalue": "ufunc 'isnan' not supported for the input types, and the inputs could not be safely coerced to any supported types according to the casting rule ''safe''",
     "output_type": "error",
     "traceback": [
      "\u001b[0;31m---------------------------------------------------------------------------\u001b[0m",
      "\u001b[0;31mTypeError\u001b[0m                                 Traceback (most recent call last)",
      "Cell \u001b[0;32mIn[5], line 1\u001b[0m\n\u001b[0;32m----> 1\u001b[0m df_train, df_val, df_test, labels, columns \u001b[38;5;241m=\u001b[39m \u001b[43minitialize_dataset\u001b[49m\u001b[43m(\u001b[49m\u001b[38;5;124;43m'\u001b[39;49m\u001b[38;5;124;43mspo_GO\u001b[39;49m\u001b[38;5;124;43m'\u001b[39;49m\u001b[43m,\u001b[49m\u001b[43m \u001b[49m\u001b[43mfun_path\u001b[49m\u001b[43m,\u001b[49m\u001b[43m \u001b[49m\u001b[43mgo_path\u001b[49m\u001b[43m)\u001b[49m\n",
      "File \u001b[0;32m~/git/gofun_parser/dataset.py:224\u001b[0m, in \u001b[0;36minitialize_dataset\u001b[0;34m(name, fun_path, go_path)\u001b[0m\n\u001b[1;32m    222\u001b[0m datasets \u001b[38;5;241m=\u001b[39m load_dataset_paths(fun_path, go_path)\n\u001b[1;32m    223\u001b[0m train_csv, valid_csv, test_csv, labels_json, hierarchy_json \u001b[38;5;241m=\u001b[39m datasets[name]\n\u001b[0;32m--> 224\u001b[0m train_data \u001b[38;5;241m=\u001b[39m \u001b[43mDataset\u001b[49m\u001b[43m(\u001b[49m\u001b[43mtrain_csv\u001b[49m\u001b[43m,\u001b[49m\u001b[43m \u001b[49m\u001b[43mlabels_json\u001b[49m\u001b[43m,\u001b[49m\u001b[43m \u001b[49m\u001b[43mhierarchy_json\u001b[49m\u001b[43m,\u001b[49m\u001b[43m \u001b[49m\u001b[43mis_GO\u001b[49m\u001b[38;5;241;43m=\u001b[39;49m\u001b[38;5;28;43;01mTrue\u001b[39;49;00m\u001b[43m)\u001b[49m\n\u001b[1;32m    225\u001b[0m val_data \u001b[38;5;241m=\u001b[39m Dataset(valid_csv, labels_json, hierarchy_json, is_GO\u001b[38;5;241m=\u001b[39m\u001b[38;5;28;01mTrue\u001b[39;00m)\n\u001b[1;32m    226\u001b[0m test_data \u001b[38;5;241m=\u001b[39m Dataset(test_csv, labels_json, hierarchy_json, is_GO\u001b[38;5;241m=\u001b[39m\u001b[38;5;28;01mTrue\u001b[39;00m, is_test\u001b[38;5;241m=\u001b[39m\u001b[38;5;28;01mTrue\u001b[39;00m)\n",
      "File \u001b[0;32m~/git/gofun_parser/dataset.py:166\u001b[0m, in \u001b[0;36mDataset.__init__\u001b[0;34m(self, csv_file, labels_json, hierarchy_json, is_GO, is_test)\u001b[0m\n\u001b[1;32m    163\u001b[0m \u001b[38;5;28mself\u001b[39m\u001b[38;5;241m.\u001b[39mto_eval \u001b[38;5;241m=\u001b[39m [t \u001b[38;5;129;01mnot\u001b[39;00m \u001b[38;5;129;01min\u001b[39;00m to_skip \u001b[38;5;28;01mfor\u001b[39;00m t \u001b[38;5;129;01min\u001b[39;00m \u001b[38;5;28mself\u001b[39m\u001b[38;5;241m.\u001b[39mterms]\n\u001b[1;32m    165\u001b[0m \u001b[38;5;66;03m# Handle missing values in X\u001b[39;00m\n\u001b[0;32m--> 166\u001b[0m r_, c_ \u001b[38;5;241m=\u001b[39m np\u001b[38;5;241m.\u001b[39mwhere(\u001b[43mnp\u001b[49m\u001b[38;5;241;43m.\u001b[39;49m\u001b[43misnan\u001b[49m\u001b[43m(\u001b[49m\u001b[38;5;28;43mself\u001b[39;49m\u001b[38;5;241;43m.\u001b[39;49m\u001b[43mX\u001b[49m\u001b[43m)\u001b[49m)\n\u001b[1;32m    167\u001b[0m m \u001b[38;5;241m=\u001b[39m np\u001b[38;5;241m.\u001b[39mnanmean(\u001b[38;5;28mself\u001b[39m\u001b[38;5;241m.\u001b[39mX, axis\u001b[38;5;241m=\u001b[39m\u001b[38;5;241m0\u001b[39m)\n\u001b[1;32m    168\u001b[0m \u001b[38;5;28;01mfor\u001b[39;00m i, j \u001b[38;5;129;01min\u001b[39;00m \u001b[38;5;28mzip\u001b[39m(r_, c_):\n",
      "\u001b[0;31mTypeError\u001b[0m: ufunc 'isnan' not supported for the input types, and the inputs could not be safely coerced to any supported types according to the casting rule ''safe''"
     ]
    }
   ],
   "source": [
    "df_train, df_val, df_test, labels, columns = initialize_dataset('spo_GO', fun_path, go_path)"
   ]
  },
  {
   "cell_type": "code",
   "execution_count": null,
   "id": "5069db80-1280-4dc8-b72c-433c545520c5",
   "metadata": {},
   "outputs": [],
   "source": [
    "df_train.categories.value_counts()"
   ]
  },
  {
   "cell_type": "code",
   "execution_count": null,
   "id": "53bd476c-1890-411d-9367-5c0e6ea626d6",
   "metadata": {},
   "outputs": [],
   "source": []
  },
  {
   "cell_type": "code",
   "execution_count": null,
   "id": "7c943aaf-ff23-447a-918c-80660ed9e5d8",
   "metadata": {},
   "outputs": [],
   "source": []
  }
 ],
 "metadata": {
  "kernelspec": {
   "display_name": "Python 3 (ipykernel)",
   "language": "python",
   "name": "python3"
  },
  "language_info": {
   "codemirror_mode": {
    "name": "ipython",
    "version": 3
   },
   "file_extension": ".py",
   "mimetype": "text/x-python",
   "name": "python",
   "nbconvert_exporter": "python",
   "pygments_lexer": "ipython3",
   "version": "3.12.7"
  }
 },
 "nbformat": 4,
 "nbformat_minor": 5
}
