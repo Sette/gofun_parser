{
 "cells": [
  {
   "cell_type": "code",
   "execution_count": 1,
   "id": "29aab782-c944-4a46-bd7c-d77dc23322d4",
   "metadata": {},
   "outputs": [],
   "source": [
    "# This Python 3 environment comes with many helpful analytics libraries installed\n",
    "# It is defined by the kaggle/python Docker image: https://github.com/kaggle/docker-python\n",
    "# For example, here's several helpful packages to load\n",
    "\n",
    "import numpy as np # linear algebra\n",
    "import pandas as pd # data processing, CSV file I/O (e.g. pd.read_csv)\n",
    "import json\n",
    "import ast"
   ]
  },
  {
   "cell_type": "code",
   "execution_count": 2,
   "id": "46675762-410a-4a62-a9af-36a86d3c5e03",
   "metadata": {},
   "outputs": [
    {
     "name": "stderr",
     "output_type": "stream",
     "text": [
      "2024-11-24 15:31:33.680248: I external/local_xla/xla/tsl/cuda/cudart_stub.cc:32] Could not find cuda drivers on your machine, GPU will not be used.\n",
      "2024-11-24 15:31:33.684510: I external/local_xla/xla/tsl/cuda/cudart_stub.cc:32] Could not find cuda drivers on your machine, GPU will not be used.\n",
      "2024-11-24 15:31:33.696488: E external/local_xla/xla/stream_executor/cuda/cuda_fft.cc:477] Unable to register cuFFT factory: Attempting to register factory for plugin cuFFT when one has already been registered\n",
      "WARNING: All log messages before absl::InitializeLog() is called are written to STDERR\n",
      "E0000 00:00:1732473093.716266   35995 cuda_dnn.cc:8310] Unable to register cuDNN factory: Attempting to register factory for plugin cuDNN when one has already been registered\n",
      "E0000 00:00:1732473093.721886   35995 cuda_blas.cc:1418] Unable to register cuBLAS factory: Attempting to register factory for plugin cuBLAS when one has already been registered\n",
      "2024-11-24 15:31:33.743091: I tensorflow/core/platform/cpu_feature_guard.cc:210] This TensorFlow binary is optimized to use available CPU instructions in performance-critical operations.\n",
      "To enable the following instructions: AVX2 FMA, in other operations, rebuild TensorFlow with the appropriate compiler flags.\n"
     ]
    }
   ],
   "source": [
    "from dataset import load_json, initialize_dataset"
   ]
  },
  {
   "cell_type": "code",
   "execution_count": 3,
   "id": "2771d3c7-e146-4dfe-8ab1-bf7b16dd3926",
   "metadata": {},
   "outputs": [],
   "source": [
    "username = 'bruno'"
   ]
  },
  {
   "cell_type": "code",
   "execution_count": 4,
   "id": "7a5ee9c2-f1a7-453a-9b3c-aa89ff33ff49",
   "metadata": {},
   "outputs": [],
   "source": [
    "go_path = f'/home/{username}/storage/NEW/GO'"
   ]
  },
  {
   "cell_type": "code",
   "execution_count": 5,
   "id": "65c79823-61f4-481f-ae51-a26f1bd41b6a",
   "metadata": {},
   "outputs": [],
   "source": [
    "fun_path = f'/home/{username}/storage/NEW/FUN'"
   ]
  },
  {
   "cell_type": "code",
   "execution_count": 6,
   "id": "5d899d4e-21cc-469d-a8a6-609f80f9040f",
   "metadata": {},
   "outputs": [],
   "source": [
    "csv_path = f'/home/{username}/storage/NEW/GO/spo_GO.train.csv'"
   ]
  },
  {
   "cell_type": "code",
   "execution_count": 7,
   "id": "23c445e6-d42f-40dd-9990-1fea80a70771",
   "metadata": {},
   "outputs": [],
   "source": [
    "df = pd.read_csv(csv_path)"
   ]
  },
  {
   "cell_type": "code",
   "execution_count": 8,
   "id": "0545a8bf-ef82-4565-b167-188797d23dd3",
   "metadata": {},
   "outputs": [],
   "source": [
    "df['features'] = df.features.apply(lambda x : ast.literal_eval(x))"
   ]
  },
  {
   "cell_type": "code",
   "execution_count": 9,
   "id": "a44725b3-ff4a-4b6b-99b0-10e58f08bb5a",
   "metadata": {},
   "outputs": [
    {
     "data": {
      "text/plain": [
       "80"
      ]
     },
     "execution_count": 9,
     "metadata": {},
     "output_type": "execute_result"
    }
   ],
   "source": [
    "len(df.features.values[0])"
   ]
  },
  {
   "cell_type": "code",
   "execution_count": 10,
   "id": "e640351a-ceea-40c2-8a29-b6c6d7aa86be",
   "metadata": {},
   "outputs": [],
   "source": [
    "df_train, df_val, df_test = initialize_dataset('spo_GO', fun_path, go_path)"
   ]
  },
  {
   "cell_type": "code",
   "execution_count": 14,
   "id": "dd1053ea-a9b6-4e08-8a3d-9782d02acc38",
   "metadata": {},
   "outputs": [
    {
     "data": {
      "text/plain": [
       "['1894',\n",
       " '1109',\n",
       " '1578',\n",
       " '575',\n",
       " '0',\n",
       " '2145',\n",
       " '1052',\n",
       " '801',\n",
       " '442',\n",
       " '0',\n",
       " '1784',\n",
       " '1385',\n",
       " '1069',\n",
       " '789',\n",
       " '0',\n",
       " '2109',\n",
       " '1684',\n",
       " '1320',\n",
       " '1056',\n",
       " '0',\n",
       " '2751',\n",
       " '1604',\n",
       " '2103',\n",
       " '1100',\n",
       " '0',\n",
       " '1991',\n",
       " '1045',\n",
       " '2394',\n",
       " '837',\n",
       " '0',\n",
       " '2752',\n",
       " '1094',\n",
       " '3806',\n",
       " '737',\n",
       " '0',\n",
       " '3308',\n",
       " '1294',\n",
       " '7409',\n",
       " '3916',\n",
       " '0',\n",
       " '3012',\n",
       " '637',\n",
       " '1238',\n",
       " '466',\n",
       " '0',\n",
       " '2678',\n",
       " '1014',\n",
       " '1601',\n",
       " '607',\n",
       " '0',\n",
       " '0.872',\n",
       " '0.842',\n",
       " '0.71',\n",
       " '0.691',\n",
       " '0.836',\n",
       " '0.837',\n",
       " '0.728',\n",
       " '0.943',\n",
       " '0.967',\n",
       " '0.699',\n",
       " '3.115',\n",
       " '1.181',\n",
       " '0.962',\n",
       " '0.935',\n",
       " '0.468',\n",
       " '0.539',\n",
       " '3.083',\n",
       " '1.662',\n",
       " '0.78',\n",
       " '3.04',\n",
       " '1.42',\n",
       " '1.6',\n",
       " '1.14',\n",
       " '0.6',\n",
       " '0.54',\n",
       " '0.57',\n",
       " '3.07',\n",
       " None,\n",
       " None,\n",
       " 'no']"
      ]
     },
     "execution_count": 14,
     "metadata": {},
     "output_type": "execute_result"
    }
   ],
   "source": [
    "df_train.df.features.values[0]"
   ]
  },
  {
   "cell_type": "code",
   "execution_count": 15,
   "id": "df4e7c94-dd4a-439e-b239-365f26795ac4",
   "metadata": {},
   "outputs": [
    {
     "data": {
      "text/plain": [
       "[1894.0,\n",
       " 1109.0,\n",
       " 1578.0,\n",
       " 575.0,\n",
       " 0.0,\n",
       " 2145.0,\n",
       " 1052.0,\n",
       " 801.0,\n",
       " 442.0,\n",
       " 0.0,\n",
       " 1784.0,\n",
       " 1385.0,\n",
       " 1069.0,\n",
       " 789.0,\n",
       " 0.0,\n",
       " 2109.0,\n",
       " 1684.0,\n",
       " 1320.0,\n",
       " 1056.0,\n",
       " 0.0,\n",
       " 2751.0,\n",
       " 1604.0,\n",
       " 2103.0,\n",
       " 1100.0,\n",
       " 0.0,\n",
       " 1991.0,\n",
       " 1045.0,\n",
       " 2394.0,\n",
       " 837.0,\n",
       " 0.0,\n",
       " 2752.0,\n",
       " 1094.0,\n",
       " 3806.0,\n",
       " 737.0,\n",
       " 0.0,\n",
       " 3308.0,\n",
       " 1294.0,\n",
       " 7409.0,\n",
       " 3916.0,\n",
       " 0.0,\n",
       " 3012.0,\n",
       " 637.0,\n",
       " 1238.0,\n",
       " 466.0,\n",
       " 0.0,\n",
       " 2678.0,\n",
       " 1014.0,\n",
       " 1601.0,\n",
       " 607.0,\n",
       " 0.0,\n",
       " 0.872,\n",
       " 0.842,\n",
       " 0.71,\n",
       " 0.691,\n",
       " 0.836,\n",
       " 0.837,\n",
       " 0.728,\n",
       " 0.943,\n",
       " 0.967,\n",
       " 0.699,\n",
       " 3.115,\n",
       " 1.181,\n",
       " 0.962,\n",
       " 0.935,\n",
       " 0.468,\n",
       " 0.539,\n",
       " 3.083,\n",
       " 1.662,\n",
       " 0.78,\n",
       " 3.04,\n",
       " 1.42,\n",
       " 1.6,\n",
       " 1.14,\n",
       " 0.6,\n",
       " 0.54,\n",
       " 0.57,\n",
       " 3.07,\n",
       " [0.0, 0.0, 0.0, 0.0, 0.0],\n",
       " [0.0, 0.0],\n",
       " [1.0, 0.0]]"
      ]
     },
     "execution_count": 15,
     "metadata": {},
     "output_type": "execute_result"
    }
   ],
   "source": [
    "df_train.df.processed_features.values[0]"
   ]
  },
  {
   "cell_type": "code",
   "execution_count": 12,
   "id": "53bd476c-1890-411d-9367-5c0e6ea626d6",
   "metadata": {},
   "outputs": [],
   "source": [
    "columns_json = go_path + '/spo_GO.json'"
   ]
  },
  {
   "cell_type": "code",
   "execution_count": 13,
   "id": "7c943aaf-ff23-447a-918c-80660ed9e5d8",
   "metadata": {},
   "outputs": [],
   "source": [
    "with open(columns_json, 'r') as f:\n",
    "    columns = json.load(f)"
   ]
  },
  {
   "cell_type": "code",
   "execution_count": 14,
   "id": "5accacf9-d79b-4ad1-bdf6-c93b6da83a86",
   "metadata": {},
   "outputs": [
    {
     "data": {
      "text/plain": [
       "80"
      ]
     },
     "execution_count": 14,
     "metadata": {},
     "output_type": "execute_result"
    }
   ],
   "source": [
    "len(columns['type'])"
   ]
  },
  {
   "cell_type": "code",
   "execution_count": null,
   "id": "53aa10b6-7baf-4dac-8b6a-7d61141afa5b",
   "metadata": {},
   "outputs": [],
   "source": [
    "for cat in categories['labels']:\n",
    "    print(cat)\n",
    "    "
   ]
  },
  {
   "cell_type": "code",
   "execution_count": null,
   "id": "0684f431-7418-41a5-9023-39717226ac6a",
   "metadata": {},
   "outputs": [],
   "source": []
  }
 ],
 "metadata": {
  "kernelspec": {
   "display_name": "Python 3 (ipykernel)",
   "language": "python",
   "name": "python3"
  },
  "language_info": {
   "codemirror_mode": {
    "name": "ipython",
    "version": 3
   },
   "file_extension": ".py",
   "mimetype": "text/x-python",
   "name": "python",
   "nbconvert_exporter": "python",
   "pygments_lexer": "ipython3",
   "version": "3.12.7"
  }
 },
 "nbformat": 4,
 "nbformat_minor": 5
}
