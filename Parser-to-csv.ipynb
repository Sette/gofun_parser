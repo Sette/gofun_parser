{
 "cells": [
  {
   "cell_type": "code",
   "execution_count": 1,
   "id": "cb39b21c-2dad-434d-a349-5e4713abec39",
   "metadata": {
    "ExecuteTime": {
     "end_time": "2024-11-12T00:27:45.431606Z",
     "start_time": "2024-11-12T00:27:45.409244Z"
    }
   },
   "outputs": [
    {
     "name": "stderr",
     "output_type": "stream",
     "text": [
      "2024-12-01 10:31:32.092619: I external/local_xla/xla/tsl/cuda/cudart_stub.cc:32] Could not find cuda drivers on your machine, GPU will not be used.\n",
      "2024-12-01 10:31:32.098890: I external/local_xla/xla/tsl/cuda/cudart_stub.cc:32] Could not find cuda drivers on your machine, GPU will not be used.\n",
      "2024-12-01 10:31:32.113828: E external/local_xla/xla/stream_executor/cuda/cuda_fft.cc:477] Unable to register cuFFT factory: Attempting to register factory for plugin cuFFT when one has already been registered\n",
      "WARNING: All log messages before absl::InitializeLog() is called are written to STDERR\n",
      "E0000 00:00:1733059892.136175    2640 cuda_dnn.cc:8310] Unable to register cuDNN factory: Attempting to register factory for plugin cuDNN when one has already been registered\n",
      "E0000 00:00:1733059892.142443    2640 cuda_blas.cc:1418] Unable to register cuBLAS factory: Attempting to register factory for plugin cuBLAS when one has already been registered\n",
      "2024-12-01 10:31:32.169710: I tensorflow/core/platform/cpu_feature_guard.cc:210] This TensorFlow binary is optimized to use available CPU instructions in performance-critical operations.\n",
      "To enable the following instructions: AVX2 FMA, in other operations, rebuild TensorFlow with the appropriate compiler flags.\n"
     ]
    }
   ],
   "source": [
    "from gofun_parser import GoFunCSVParser\n",
    "import shutil\n",
    "import os\n",
    "import json\n",
    "from tqdm.notebook import tqdm"
   ]
  },
  {
   "cell_type": "code",
   "execution_count": 2,
   "id": "92b509e00be78264",
   "metadata": {
    "ExecuteTime": {
     "end_time": "2024-11-12T00:28:54.544377Z",
     "start_time": "2024-11-12T00:28:54.522807Z"
    }
   },
   "outputs": [],
   "source": [
    "def convert_arffs(input_path, output_dir):\n",
    "    \"\"\"\n",
    "    Recursively extracts 'train.zip', 'test.zip', and 'val.zip' from subdirectories of the input path.\n",
    "\n",
    "    :param input_path: Root directory containing subdirectories with .zip files\n",
    "    :param output_dir: Directory to save the extracted files\n",
    "    \"\"\"\n",
    "    os.makedirs(output_dir, exist_ok=True)\n",
    "    \n",
    "    # Coletar todos os diretórios que contêm arquivos .arff\n",
    "    directories = []\n",
    "    for root, dirs, files in os.walk(input_path):\n",
    "        if any(file.endswith('.arff') for file in files):\n",
    "            directories.append((root, files))\n",
    "    \n",
    "    # Loop através dos diretórios com tqdm\n",
    "    for root, files in tqdm(directories, desc='Processando diretórios'):\n",
    "        for file_name in files:\n",
    "            if file_name.endswith('.arff'):\n",
    "                csv_file_name = file_name.replace('.arff', '.csv')\n",
    "                csv_path = os.path.join(output_dir, os.path.splitext(file_name)[0])\n",
    "                csv_path = csv_path.split(\"/\")[:-1]\n",
    "                csv_path = os.path.join(\"/\", *csv_path)\n",
    "                os.makedirs(csv_path, exist_ok=True)\n",
    "                csv_path = os.path.join(csv_path, csv_file_name)\n",
    "                arff_path = os.path.join(root, file_name)\n",
    "                parser = GoFunCSVParser(arff_path, csv_path)\n",
    "                parser.process()\n",
    "                #print(f\"Criado {csv_file_name}\")\n"
   ]
  },
  {
   "cell_type": "code",
   "execution_count": 3,
   "id": "56a977d5-aca7-4b15-b6db-ebccdd2a37e5",
   "metadata": {},
   "outputs": [],
   "source": [
    "username = 'brunosilvasette'"
   ]
  },
  {
   "cell_type": "code",
   "execution_count": 4,
   "id": "614d045ed017b549",
   "metadata": {
    "ExecuteTime": {
     "end_time": "2024-11-12T00:29:23.599424Z",
     "start_time": "2024-11-12T00:29:23.592960Z"
    }
   },
   "outputs": [],
   "source": [
    "input_path = f'/home/{username}/storage/GO_FUN/GO'"
   ]
  },
  {
   "cell_type": "code",
   "execution_count": 5,
   "id": "1c721422-687b-4966-9c41-56f0098d4514",
   "metadata": {},
   "outputs": [],
   "source": [
    "output_path = f'/home/{username}/storage/NEW/GO'"
   ]
  },
  {
   "cell_type": "code",
   "execution_count": null,
   "id": "98ed6ddf61f8611a",
   "metadata": {
    "ExecuteTime": {
     "end_time": "2024-11-12T00:29:24.762693Z",
     "start_time": "2024-11-12T00:29:24.420580Z"
    }
   },
   "outputs": [
    {
     "data": {
      "application/vnd.jupyter.widget-view+json": {
       "model_id": "2023be6f6244484dbc0c8e302ce38f3b",
       "version_major": 2,
       "version_minor": 0
      },
      "text/plain": [
       "Processando diretórios:   0%|          | 0/36 [00:00<?, ?it/s]"
      ]
     },
     "metadata": {},
     "output_type": "display_data"
    }
   ],
   "source": [
    "convert_arffs(input_path, output_path)"
   ]
  },
  {
   "cell_type": "code",
   "execution_count": null,
   "id": "ea54a41a-65c3-4c5e-8660-93a0277678ad",
   "metadata": {
    "ExecuteTime": {
     "end_time": "2024-11-12T00:29:25.229271Z",
     "start_time": "2024-11-12T00:29:25.215653Z"
    }
   },
   "outputs": [],
   "source": [
    "#parser.process()"
   ]
  },
  {
   "cell_type": "code",
   "execution_count": null,
   "id": "fadef48b-1894-4cf5-a2f7-a0a7ed524686",
   "metadata": {},
   "outputs": [],
   "source": []
  },
  {
   "cell_type": "code",
   "execution_count": null,
   "id": "1c4b2574-e14a-458d-ab20-1503f7853261",
   "metadata": {},
   "outputs": [],
   "source": []
  }
 ],
 "metadata": {
  "kernelspec": {
   "display_name": "Python 3 (ipykernel)",
   "language": "python",
   "name": "python3"
  },
  "language_info": {
   "codemirror_mode": {
    "name": "ipython",
    "version": 3
   },
   "file_extension": ".py",
   "mimetype": "text/x-python",
   "name": "python",
   "nbconvert_exporter": "python",
   "pygments_lexer": "ipython3",
   "version": "3.12.7"
  }
 },
 "nbformat": 4,
 "nbformat_minor": 5
}
