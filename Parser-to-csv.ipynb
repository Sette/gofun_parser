{
 "cells": [
  {
   "cell_type": "code",
   "execution_count": 1,
   "id": "cb39b21c-2dad-434d-a349-5e4713abec39",
   "metadata": {
    "ExecuteTime": {
     "end_time": "2024-11-12T00:27:45.431606Z",
     "start_time": "2024-11-12T00:27:45.409244Z"
    }
   },
   "outputs": [],
   "source": [
    "from gofun_parser import GoFunCSVParser\n",
    "import shutil\n",
    "import os\n",
    "import jos\n",
    "from tqdm.notebook import tqdm"
   ]
  },
  {
   "cell_type": "code",
   "execution_count": 2,
   "id": "92b509e00be78264",
   "metadata": {
    "ExecuteTime": {
     "end_time": "2024-11-12T00:28:54.544377Z",
     "start_time": "2024-11-12T00:28:54.522807Z"
    }
   },
   "outputs": [],
   "source": [
    "def convert_arffs(input_path, output_dir):\n",
    "    \"\"\"\n",
    "    Recursively extracts 'train.zip', 'test.zip', and 'val.zip' from subdirectories of the input path.\n",
    "\n",
    "    :param input_path: Root directory containing subdirectories with .zip files\n",
    "    :param output_dir: Directory to save the extracted files\n",
    "    \"\"\"\n",
    "    os.makedirs(output_dir, exist_ok=True)\n",
    "    \n",
    "    for root, dirs, files in os.walk(input_path):\n",
    "        \n",
    "        for file_name in files:\n",
    "            if file_name.endswith('.arff'):\n",
    "                csv_file_name = file_name.replace('.arff', '.csv')\n",
    "                csv_path = os.path.join(output_dir, os.path.splitext(file_name)[0])\n",
    "                csv_path = csv_path.split(\"/\")[:-1]\n",
    "                csv_path = os.path.join(\"/\", *csv_path)\n",
    "                os.makedirs(csv_path, exist_ok=True)\n",
    "                csv_path = os.path.join(csv_path, csv_file_name)\n",
    "                arff_path = os.path.join(root, file_name)\n",
    "                parser = GoFunCSVParser(arff_path, csv_path)\n",
    "                parser.process()\n",
    "                print(f\"Created {csv_file_name}\")\n"
   ]
  },
  {
   "cell_type": "code",
   "execution_count": 6,
   "id": "614d045ed017b549",
   "metadata": {
    "ExecuteTime": {
     "end_time": "2024-11-12T00:29:23.599424Z",
     "start_time": "2024-11-12T00:29:23.592960Z"
    }
   },
   "outputs": [],
   "source": [
    "input_path = '/home/bruno/storage/ORIGINAL/GO'"
   ]
  },
  {
   "cell_type": "code",
   "execution_count": 7,
   "id": "1c721422-687b-4966-9c41-56f0098d4514",
   "metadata": {},
   "outputs": [],
   "source": [
    "output_path = '/home/bruno/storage/NEW/GO'"
   ]
  },
  {
   "cell_type": "code",
   "execution_count": 8,
   "id": "98ed6ddf61f8611a",
   "metadata": {
    "ExecuteTime": {
     "end_time": "2024-11-12T00:29:24.762693Z",
     "start_time": "2024-11-12T00:29:24.420580Z"
    }
   },
   "outputs": [
    {
     "name": "stdout",
     "output_type": "stream",
     "text": [
      "Data successfully converted and saved to /home/bruno/storage/NEW/GO/cellcycle_GO.valid.csv\n",
      "Created cellcycle_GO.valid.csv\n",
      "The file '/home/bruno/storage/NEW/GO/cellcycle_GO-labels.json' already exists and will not be overwritten.\n",
      "The file '/home/bruno/storage/NEW/GO/cellcycle_GO.json' already exists and will not be overwritten.\n",
      "Data successfully converted and saved to /home/bruno/storage/NEW/GO/cellcycle_GO.train.csv\n",
      "Created cellcycle_GO.train.csv\n",
      "The file '/home/bruno/storage/NEW/GO/cellcycle_GO-labels.json' already exists and will not be overwritten.\n",
      "The file '/home/bruno/storage/NEW/GO/cellcycle_GO.json' already exists and will not be overwritten.\n",
      "Data successfully converted and saved to /home/bruno/storage/NEW/GO/cellcycle_GO.test.csv\n",
      "Created cellcycle_GO.test.csv\n",
      "Data successfully converted and saved to /home/bruno/storage/NEW/GO/hom_GO.valid.csv\n",
      "Created hom_GO.valid.csv\n",
      "The file '/home/bruno/storage/NEW/GO/hom_GO-labels.json' already exists and will not be overwritten.\n",
      "The file '/home/bruno/storage/NEW/GO/hom_GO.json' already exists and will not be overwritten.\n",
      "Data successfully converted and saved to /home/bruno/storage/NEW/GO/hom_GO.test.csv\n",
      "Created hom_GO.test.csv\n",
      "The file '/home/bruno/storage/NEW/GO/hom_GO-labels.json' already exists and will not be overwritten.\n",
      "The file '/home/bruno/storage/NEW/GO/hom_GO.json' already exists and will not be overwritten.\n",
      "Data successfully converted and saved to /home/bruno/storage/NEW/GO/hom_GO.train.csv\n",
      "Created hom_GO.train.csv\n",
      "Data successfully converted and saved to /home/bruno/storage/NEW/GO/pheno_GO.train.csv\n",
      "Created pheno_GO.train.csv\n",
      "The file '/home/bruno/storage/NEW/GO/pheno_GO-labels.json' already exists and will not be overwritten.\n",
      "The file '/home/bruno/storage/NEW/GO/pheno_GO.json' already exists and will not be overwritten.\n",
      "Data successfully converted and saved to /home/bruno/storage/NEW/GO/pheno_GO.test.csv\n",
      "Created pheno_GO.test.csv\n",
      "The file '/home/bruno/storage/NEW/GO/pheno_GO-labels.json' already exists and will not be overwritten.\n",
      "The file '/home/bruno/storage/NEW/GO/pheno_GO.json' already exists and will not be overwritten.\n",
      "Data successfully converted and saved to /home/bruno/storage/NEW/GO/pheno_GO.valid.csv\n",
      "Created pheno_GO.valid.csv\n",
      "Data successfully converted and saved to /home/bruno/storage/NEW/GO/spo_GO.train.csv\n",
      "Created spo_GO.train.csv\n",
      "The file '/home/bruno/storage/NEW/GO/spo_GO-labels.json' already exists and will not be overwritten.\n",
      "The file '/home/bruno/storage/NEW/GO/spo_GO.json' already exists and will not be overwritten.\n",
      "Data successfully converted and saved to /home/bruno/storage/NEW/GO/spo_GO.valid.csv\n",
      "Created spo_GO.valid.csv\n",
      "The file '/home/bruno/storage/NEW/GO/spo_GO-labels.json' already exists and will not be overwritten.\n",
      "The file '/home/bruno/storage/NEW/GO/spo_GO.json' already exists and will not be overwritten.\n",
      "Data successfully converted and saved to /home/bruno/storage/NEW/GO/spo_GO.test.csv\n",
      "Created spo_GO.test.csv\n",
      "Data successfully converted and saved to /home/bruno/storage/NEW/GO/struc_GO.valid.csv\n",
      "Created struc_GO.valid.csv\n",
      "The file '/home/bruno/storage/NEW/GO/struc_GO-labels.json' already exists and will not be overwritten.\n",
      "The file '/home/bruno/storage/NEW/GO/struc_GO.json' already exists and will not be overwritten.\n",
      "Data successfully converted and saved to /home/bruno/storage/NEW/GO/struc_GO.train.csv\n",
      "Created struc_GO.train.csv\n",
      "The file '/home/bruno/storage/NEW/GO/struc_GO-labels.json' already exists and will not be overwritten.\n",
      "The file '/home/bruno/storage/NEW/GO/struc_GO.json' already exists and will not be overwritten.\n",
      "Data successfully converted and saved to /home/bruno/storage/NEW/GO/struc_GO.test.csv\n",
      "Created struc_GO.test.csv\n",
      "Data successfully converted and saved to /home/bruno/storage/NEW/GO/expr_GO.valid.csv\n",
      "Created expr_GO.valid.csv\n",
      "The file '/home/bruno/storage/NEW/GO/expr_GO-labels.json' already exists and will not be overwritten.\n",
      "The file '/home/bruno/storage/NEW/GO/expr_GO.json' already exists and will not be overwritten.\n",
      "Data successfully converted and saved to /home/bruno/storage/NEW/GO/expr_GO.train.csv\n",
      "Created expr_GO.train.csv\n",
      "The file '/home/bruno/storage/NEW/GO/expr_GO-labels.json' already exists and will not be overwritten.\n",
      "The file '/home/bruno/storage/NEW/GO/expr_GO.json' already exists and will not be overwritten.\n",
      "Data successfully converted and saved to /home/bruno/storage/NEW/GO/expr_GO.test.csv\n",
      "Created expr_GO.test.csv\n",
      "Data successfully converted and saved to /home/bruno/storage/NEW/GO/gasch1_GO.valid.csv\n",
      "Created gasch1_GO.valid.csv\n",
      "The file '/home/bruno/storage/NEW/GO/gasch1_GO-labels.json' already exists and will not be overwritten.\n",
      "The file '/home/bruno/storage/NEW/GO/gasch1_GO.json' already exists and will not be overwritten.\n",
      "Data successfully converted and saved to /home/bruno/storage/NEW/GO/gasch1_GO.train.csv\n",
      "Created gasch1_GO.train.csv\n",
      "The file '/home/bruno/storage/NEW/GO/gasch1_GO-labels.json' already exists and will not be overwritten.\n",
      "The file '/home/bruno/storage/NEW/GO/gasch1_GO.json' already exists and will not be overwritten.\n",
      "Data successfully converted and saved to /home/bruno/storage/NEW/GO/gasch1_GO.test.csv\n",
      "Created gasch1_GO.test.csv\n",
      "Data successfully converted and saved to /home/bruno/storage/NEW/GO/eisen_GO.train.csv\n",
      "Created eisen_GO.train.csv\n",
      "The file '/home/bruno/storage/NEW/GO/eisen_GO-labels.json' already exists and will not be overwritten.\n",
      "The file '/home/bruno/storage/NEW/GO/eisen_GO.json' already exists and will not be overwritten.\n",
      "Data successfully converted and saved to /home/bruno/storage/NEW/GO/eisen_GO.test.csv\n",
      "Created eisen_GO.test.csv\n",
      "The file '/home/bruno/storage/NEW/GO/eisen_GO-labels.json' already exists and will not be overwritten.\n",
      "The file '/home/bruno/storage/NEW/GO/eisen_GO.json' already exists and will not be overwritten.\n",
      "Data successfully converted and saved to /home/bruno/storage/NEW/GO/eisen_GO.valid.csv\n",
      "Created eisen_GO.valid.csv\n",
      "Data successfully converted and saved to /home/bruno/storage/NEW/GO/derisi_GO.test.csv\n",
      "Created derisi_GO.test.csv\n",
      "The file '/home/bruno/storage/NEW/GO/derisi_GO-labels.json' already exists and will not be overwritten.\n",
      "The file '/home/bruno/storage/NEW/GO/derisi_GO.json' already exists and will not be overwritten.\n",
      "Data successfully converted and saved to /home/bruno/storage/NEW/GO/derisi_GO.train.csv\n",
      "Created derisi_GO.train.csv\n",
      "The file '/home/bruno/storage/NEW/GO/derisi_GO-labels.json' already exists and will not be overwritten.\n",
      "The file '/home/bruno/storage/NEW/GO/derisi_GO.json' already exists and will not be overwritten.\n",
      "Data successfully converted and saved to /home/bruno/storage/NEW/GO/derisi_GO.valid.csv\n",
      "Created derisi_GO.valid.csv\n",
      "Data successfully converted and saved to /home/bruno/storage/NEW/GO/seq_GO.train.csv\n",
      "Created seq_GO.train.csv\n",
      "The file '/home/bruno/storage/NEW/GO/seq_GO-labels.json' already exists and will not be overwritten.\n",
      "The file '/home/bruno/storage/NEW/GO/seq_GO.json' already exists and will not be overwritten.\n",
      "Data successfully converted and saved to /home/bruno/storage/NEW/GO/seq_GO.valid.csv\n",
      "Created seq_GO.valid.csv\n",
      "The file '/home/bruno/storage/NEW/GO/seq_GO-labels.json' already exists and will not be overwritten.\n",
      "The file '/home/bruno/storage/NEW/GO/seq_GO.json' already exists and will not be overwritten.\n",
      "Data successfully converted and saved to /home/bruno/storage/NEW/GO/seq_GO.test.csv\n",
      "Created seq_GO.test.csv\n",
      "Data successfully converted and saved to /home/bruno/storage/NEW/GO/church_GO.valid.csv\n",
      "Created church_GO.valid.csv\n",
      "The file '/home/bruno/storage/NEW/GO/church_GO-labels.json' already exists and will not be overwritten.\n",
      "The file '/home/bruno/storage/NEW/GO/church_GO.json' already exists and will not be overwritten.\n",
      "Data successfully converted and saved to /home/bruno/storage/NEW/GO/church_GO.train.csv\n",
      "Created church_GO.train.csv\n",
      "The file '/home/bruno/storage/NEW/GO/church_GO-labels.json' already exists and will not be overwritten.\n",
      "The file '/home/bruno/storage/NEW/GO/church_GO.json' already exists and will not be overwritten.\n",
      "Data successfully converted and saved to /home/bruno/storage/NEW/GO/church_GO.test.csv\n",
      "Created church_GO.test.csv\n",
      "Data successfully converted and saved to /home/bruno/storage/NEW/GO/gasch2_GO.test.csv\n",
      "Created gasch2_GO.test.csv\n",
      "The file '/home/bruno/storage/NEW/GO/gasch2_GO-labels.json' already exists and will not be overwritten.\n",
      "The file '/home/bruno/storage/NEW/GO/gasch2_GO.json' already exists and will not be overwritten.\n",
      "Data successfully converted and saved to /home/bruno/storage/NEW/GO/gasch2_GO.train.csv\n",
      "Created gasch2_GO.train.csv\n",
      "The file '/home/bruno/storage/NEW/GO/gasch2_GO-labels.json' already exists and will not be overwritten.\n",
      "The file '/home/bruno/storage/NEW/GO/gasch2_GO.json' already exists and will not be overwritten.\n",
      "Data successfully converted and saved to /home/bruno/storage/NEW/GO/gasch2_GO.valid.csv\n",
      "Created gasch2_GO.valid.csv\n"
     ]
    }
   ],
   "source": [
    "convert_arffs(input_path, output_path)"
   ]
  },
  {
   "cell_type": "code",
   "execution_count": 14,
   "id": "ea54a41a-65c3-4c5e-8660-93a0277678ad",
   "metadata": {
    "ExecuteTime": {
     "end_time": "2024-11-12T00:29:25.229271Z",
     "start_time": "2024-11-12T00:29:25.215653Z"
    }
   },
   "outputs": [],
   "source": [
    "#parser.process()"
   ]
  },
  {
   "cell_type": "code",
   "execution_count": null,
   "id": "fadef48b-1894-4cf5-a2f7-a0a7ed524686",
   "metadata": {},
   "outputs": [],
   "source": []
  }
 ],
 "metadata": {
  "kernelspec": {
   "display_name": "Python 3 (ipykernel)",
   "language": "python",
   "name": "python3"
  },
  "language_info": {
   "codemirror_mode": {
    "name": "ipython",
    "version": 3
   },
   "file_extension": ".py",
   "mimetype": "text/x-python",
   "name": "python",
   "nbconvert_exporter": "python",
   "pygments_lexer": "ipython3",
   "version": "3.12.7"
  }
 },
 "nbformat": 4,
 "nbformat_minor": 5
}
